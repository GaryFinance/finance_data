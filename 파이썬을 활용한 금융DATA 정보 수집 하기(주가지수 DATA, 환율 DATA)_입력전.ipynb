{
 "cells": [
  {
   "cell_type": "markdown",
   "id": "digital-greene",
   "metadata": {},
   "source": [
    "# 환경세팅 \n",
    "\n",
    "### \t1. DATA 수집 및 분석을 위한 수업전 환경을 설정하고 필요한 프로그램을 설치\n",
    "\n",
    "#### \t\t\tpython 설치 \n",
    "\n",
    "​\t\t\t\t\t윈도우에서 파이썬 설치하기\n",
    "\n",
    "**1)** 우선 파이썬 공식 홈페이지의 다운로드 페이지([http://www.python.org/downloads](http://www.python.org/downloads/))에서 윈도우용 파이썬 언어 패키지를 다운로드한다. 다음 화면에서 Python 3.x로 시작하는 버전 중 3.8.x 을 윈도우 인스톨러를 다운로드하자(이 글을 작성하는 시점의 최신 버전은 3.8.7이다).\n",
    "\n",
    "![image-20210123190506670](https://user-images.githubusercontent.com/25717861/105575292-efde9800-5dad-11eb-9b23-faccd20e6798.png)\n",
    "\n",
    "\n",
    "\n",
    "![image-20210123190845399](https://user-images.githubusercontent.com/25717861/105575370-80b57380-5dae-11eb-893c-d2e5e1887466.png)\n",
    "\n",
    "**2)인스톨러를 실행한 후에 \"Install Now\"를 선택하면 바로 설치가 진행된다.**\n",
    "\n",
    "파이썬이 어느 곳에서든지 실행될 수 있도록 \"Add Python3.8 to PATH\" 옵션을 반드시 선택해야 한다.\n",
    "\n",
    "![image-20210123191346607](https://user-images.githubusercontent.com/25717861/105575461-249f1f00-5daf-11eb-862d-584a84bea93e.png)\n",
    "\n",
    "> ※ \"Add Python 3.7 to PATH\" 옵션을 누락하면 이후 실습할 때 오류가 발생할 수 있다. 만약 Python이 설치되는 경로와 PATH에 대한 사전 지식이 있는 사용자라면 이 옵션을 생략해도 된다.\n",
    "\n",
    "##### 3)설치가 완료되면 [close]를 클릭하여 종료한다.\n",
    "\n",
    "파이썬이 정상적으로 설치되었다면 다음 그림과 같이 프로그램 메뉴에서 확인할 수 있다.\n",
    "\n",
    "**[시작 → 모든 프로그램 → Python 3.8]**\n",
    "\n",
    "\n",
    "\n",
    "​\t\t\t\t\n",
    "\n",
    "####  \t\t jupyter notebook 설치\n",
    "\n",
    "​\t\t\twindows 10  기준으로 cmd 창을 열고 다음과 같은 명령어를 이용해서 설치\n",
    "\n",
    "```powershell\n",
    "pip install jupyter\n",
    "```\n",
    "\n",
    "\n",
    "\n",
    "\n",
    "\n",
    "####  \t\t jupyter notebook 실행\n",
    "\n",
    "```powershell\n",
    "C:\\Users\\user>cd \n",
    "\n",
    "C:\\>cd apps\n",
    "\n",
    "C:\\apps>mkdir finace_data\n",
    "\n",
    "C:\\apps>cd finace_data\n",
    "\n",
    "C:\\apps\\finace_data>jupyter notebook\n",
    "\n",
    "```\n",
    "\n",
    "\n",
    "![image-20210123192250643](https://user-images.githubusercontent.com/25717861/105575640-7a27fb80-5db0-11eb-9004-62d97901cb92.png)\n"
   ]
  },
  {
   "cell_type": "markdown",
   "id": "external-sheep",
   "metadata": {},
   "source": [
    "## FinanceDataReader을 이용한 분석\n",
    "\n",
    "* 한국 주식 가격, 미국주식 가격, 지수, 환율, 암호화폐 가격, 종목 리스팅 등 금융 데이터 수집 라이브러리\n",
    "\n",
    "* [FinanceData/FinanceDataReader: Financial data reader](https://github.com/FinanceData/FinanceDataReader)\n",
    "* [FinanceDataReader 사용자 안내서 | FinanceData](https://financedata.github.io/posts/finance-data-reader-users-guide.html)\n",
    "* https://pandas-datareader.readthedocs.io/en/latest/readers/index.html"
   ]
  },
  {
   "cell_type": "markdown",
   "id": "square-element",
   "metadata": {},
   "source": [
    "# finance-datareader 설치"
   ]
  },
  {
   "cell_type": "code",
   "execution_count": 1,
   "id": "square-copying",
   "metadata": {},
   "outputs": [
    {
     "name": "stdout",
     "output_type": "stream",
     "text": [
      "Requirement already satisfied: finance-datareader in c:\\users\\user\\appdata\\local\\programs\\python\\python38\\lib\\site-packages (0.9.14)\n",
      "Requirement already satisfied: requests-file in c:\\users\\user\\appdata\\local\\programs\\python\\python38\\lib\\site-packages (from finance-datareader) (1.5.1)\n",
      "Requirement already satisfied: lxml in c:\\users\\user\\appdata\\local\\programs\\python\\python38\\lib\\site-packages (from finance-datareader) (4.6.2)\n",
      "Requirement already satisfied: tqdm in c:\\users\\user\\appdata\\local\\programs\\python\\python38\\lib\\site-packages (from finance-datareader) (4.56.0)\n",
      "Requirement already satisfied: pandas>=0.19.2 in c:\\users\\user\\appdata\\local\\programs\\python\\python38\\lib\\site-packages (from finance-datareader) (1.2.0)\n",
      "Requirement already satisfied: requests>=2.3.0 in c:\\users\\user\\appdata\\local\\programs\\python\\python38\\lib\\site-packages (from finance-datareader) (2.25.1)\n",
      "Requirement already satisfied: numpy>=1.16.5 in c:\\users\\user\\appdata\\local\\programs\\python\\python38\\lib\\site-packages (from pandas>=0.19.2->finance-datareader) (1.19.5)\n",
      "Requirement already satisfied: python-dateutil>=2.7.3 in c:\\users\\user\\appdata\\local\\programs\\python\\python38\\lib\\site-packages (from pandas>=0.19.2->finance-datareader) (2.8.1)\n",
      "Requirement already satisfied: pytz>=2017.3 in c:\\users\\user\\appdata\\local\\programs\\python\\python38\\lib\\site-packages (from pandas>=0.19.2->finance-datareader) (2020.5)\n",
      "Requirement already satisfied: six>=1.5 in c:\\users\\user\\appdata\\local\\programs\\python\\python38\\lib\\site-packages (from python-dateutil>=2.7.3->pandas>=0.19.2->finance-datareader) (1.15.0)\n",
      "Requirement already satisfied: chardet<5,>=3.0.2 in c:\\users\\user\\appdata\\local\\programs\\python\\python38\\lib\\site-packages (from requests>=2.3.0->finance-datareader) (4.0.0)\n",
      "Requirement already satisfied: urllib3<1.27,>=1.21.1 in c:\\users\\user\\appdata\\local\\programs\\python\\python38\\lib\\site-packages (from requests>=2.3.0->finance-datareader) (1.26.2)\n",
      "Requirement already satisfied: certifi>=2017.4.17 in c:\\users\\user\\appdata\\local\\programs\\python\\python38\\lib\\site-packages (from requests>=2.3.0->finance-datareader) (2020.12.5)\n",
      "Requirement already satisfied: idna<3,>=2.5 in c:\\users\\user\\appdata\\local\\programs\\python\\python38\\lib\\site-packages (from requests>=2.3.0->finance-datareader) (2.10)\n"
     ]
    }
   ],
   "source": [
    "!pip install finance-datareader"
   ]
  },
  {
   "cell_type": "markdown",
   "id": "becoming-prince",
   "metadata": {},
   "source": [
    "# 라이브러리 불러오기"
   ]
  },
  {
   "cell_type": "markdown",
   "id": "intense-store",
   "metadata": {},
   "source": [
    "### 데이터프레임을 활용한 다양한 활용을 위한 pandas  불러오기"
   ]
  },
  {
   "cell_type": "code",
   "execution_count": 21,
   "id": "parallel-package",
   "metadata": {},
   "outputs": [],
   "source": [
    "import pandas as pd\n",
    "import numpy as np"
   ]
  },
  {
   "cell_type": "markdown",
   "id": "nominated-adventure",
   "metadata": {},
   "source": [
    "## 한국거래수 상장종목 전체 가져오기"
   ]
  },
  {
   "cell_type": "code",
   "execution_count": 22,
   "id": "weird-preview",
   "metadata": {},
   "outputs": [
    {
     "data": {
      "text/plain": [
       "'0.9.14'"
      ]
     },
     "execution_count": 22,
     "metadata": {},
     "output_type": "execute_result"
    }
   ],
   "source": [
    "# FinanceDataReader 를 fdr 별칭으로 불러오는 방법으로\n",
    "import FinanceDataReader as fdr\n",
    "\n",
    "fdr.__version__"
   ]
  },
  {
   "cell_type": "markdown",
   "id": "electoral-coral",
   "metadata": {},
   "source": [
    "##### KRX : KRX 종목 전체\n",
    "##### KOSPI : KOSPI 종목\n",
    "##### KOSDAQ : KOSDAQ 종목\n",
    "##### KONEX : KONEX 종목\n",
    "##### NASDAQ : 나스닥 종목\n",
    "##### NYSE : 뉴욕증권거래소 종목\n",
    "##### SP500 : S&P500 종목"
   ]
  },
  {
   "cell_type": "code",
   "execution_count": 23,
   "id": "surprising-algorithm",
   "metadata": {},
   "outputs": [
    {
     "name": "stderr",
     "output_type": "stream",
     "text": [
      "100%|███████████████████████████████████████████████████████████████████████████████████| 3345/3345 [00:04<00:00, 752.62it/s]\n"
     ]
    }
   ],
   "source": [
    "#한국 거래소 상장종목 가져오기\n",
    "data_krx = fdr.StockListing('KRX')\n",
    "data_nasdaq = fdr.StockListing('NASDAQ')"
   ]
  },
  {
   "cell_type": "code",
   "execution_count": null,
   "id": "worthy-grant",
   "metadata": {},
   "outputs": [],
   "source": []
  },
  {
   "cell_type": "code",
   "execution_count": null,
   "id": "breeding-money",
   "metadata": {},
   "outputs": [],
   "source": [
    "#data_krx의 전체적인 데이타의 특성정보를 확인할 수 있다."
   ]
  },
  {
   "cell_type": "code",
   "execution_count": null,
   "id": "phantom-stable",
   "metadata": {},
   "outputs": [],
   "source": [
    "#data_krx의 전체적인 데이타의 기술통계값을 확인할 수 있다."
   ]
  },
  {
   "cell_type": "code",
   "execution_count": null,
   "id": "cubic-employee",
   "metadata": {},
   "outputs": [],
   "source": []
  },
  {
   "cell_type": "code",
   "execution_count": null,
   "id": "accessory-still",
   "metadata": {},
   "outputs": [],
   "source": []
  },
  {
   "cell_type": "markdown",
   "id": "dramatic-result",
   "metadata": {},
   "source": [
    "## 파일로 저장하고 불러오기\n",
    "<img src=\"https://pandas.pydata.org/docs/_images/02_io_readwrite1.svg\">"
   ]
  },
  {
   "cell_type": "markdown",
   "id": "cosmetic-lending",
   "metadata": {},
   "source": [
    "### DataFrame\n",
    "<img src=\"https://pandas.pydata.org/docs/_images/01_table_dataframe1.svg\">"
   ]
  },
  {
   "cell_type": "code",
   "execution_count": null,
   "id": "quantitative-midwest",
   "metadata": {},
   "outputs": [],
   "source": []
  },
  {
   "cell_type": "code",
   "execution_count": null,
   "id": "cheap-manor",
   "metadata": {},
   "outputs": [],
   "source": []
  },
  {
   "cell_type": "code",
   "execution_count": null,
   "id": "better-sculpture",
   "metadata": {},
   "outputs": [],
   "source": []
  },
  {
   "cell_type": "code",
   "execution_count": null,
   "id": "israeli-contract",
   "metadata": {},
   "outputs": [],
   "source": []
  },
  {
   "cell_type": "code",
   "execution_count": null,
   "id": "lucky-shower",
   "metadata": {},
   "outputs": [],
   "source": []
  },
  {
   "cell_type": "code",
   "execution_count": null,
   "id": "reported-default",
   "metadata": {},
   "outputs": [],
   "source": []
  },
  {
   "cell_type": "code",
   "execution_count": null,
   "id": "balanced-france",
   "metadata": {},
   "outputs": [],
   "source": []
  },
  {
   "cell_type": "code",
   "execution_count": null,
   "id": "cloudy-disposition",
   "metadata": {},
   "outputs": [],
   "source": []
  },
  {
   "cell_type": "code",
   "execution_count": null,
   "id": "numerical-temple",
   "metadata": {},
   "outputs": [],
   "source": [
    "# df.loc[0] 의 type을 봅니다."
   ]
  },
  {
   "cell_type": "code",
   "execution_count": null,
   "id": "qualified-clock",
   "metadata": {},
   "outputs": [],
   "source": []
  },
  {
   "cell_type": "code",
   "execution_count": null,
   "id": "joint-nevada",
   "metadata": {},
   "outputs": [],
   "source": [
    "# 여러 컬럼을 지정할 때는 리스트 형태로 묶어주어야 합니다. \n",
    "# 2차원 행렬은 대괄호가 [] 2개가 있다는 것을 기억해 주세요."
   ]
  },
  {
   "cell_type": "code",
   "execution_count": null,
   "id": "found-converter",
   "metadata": {},
   "outputs": [],
   "source": [
    "# 여러 개의 행을 가져올 때도 [] 대괄호를 통해 리스트 형태로 묶어줍니다."
   ]
  },
  {
   "cell_type": "code",
   "execution_count": 47,
   "id": "resident-enforcement",
   "metadata": {},
   "outputs": [],
   "source": [
    "import FinanceDataReader as fdr\n",
    "import pandas as pd\n",
    "import seaborn as sns\n",
    "import numpy as np"
   ]
  },
  {
   "cell_type": "code",
   "execution_count": null,
   "id": "light-thermal",
   "metadata": {},
   "outputs": [],
   "source": [
    "# FX 환율, 1995 ~ 현재"
   ]
  },
  {
   "cell_type": "code",
   "execution_count": null,
   "id": "dominant-energy",
   "metadata": {},
   "outputs": [],
   "source": []
  },
  {
   "cell_type": "code",
   "execution_count": null,
   "id": "floral-intention",
   "metadata": {},
   "outputs": [],
   "source": []
  },
  {
   "cell_type": "code",
   "execution_count": null,
   "id": "spanish-senegal",
   "metadata": {},
   "outputs": [],
   "source": []
  },
  {
   "cell_type": "code",
   "execution_count": null,
   "id": "worldwide-attraction",
   "metadata": {},
   "outputs": [],
   "source": []
  }
 ],
 "metadata": {
  "kernelspec": {
   "display_name": "Python 3",
   "language": "python",
   "name": "python3"
  },
  "language_info": {
   "codemirror_mode": {
    "name": "ipython",
    "version": 3
   },
   "file_extension": ".py",
   "mimetype": "text/x-python",
   "name": "python",
   "nbconvert_exporter": "python",
   "pygments_lexer": "ipython3",
   "version": "3.8.7"
  }
 },
 "nbformat": 4,
 "nbformat_minor": 5
}
