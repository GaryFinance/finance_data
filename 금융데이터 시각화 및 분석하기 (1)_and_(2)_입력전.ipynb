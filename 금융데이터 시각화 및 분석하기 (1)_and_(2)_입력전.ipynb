{
 "cells": [
  {
   "cell_type": "code",
   "execution_count": 2,
   "id": "motivated-counter",
   "metadata": {},
   "outputs": [],
   "source": [
    "# 데이터 분석을 위해 pandas 불러오기"
   ]
  },
  {
   "cell_type": "code",
   "execution_count": 3,
   "id": "raised-enzyme",
   "metadata": {},
   "outputs": [],
   "source": [
    "# FinanceDataReader 를 fdr 별칭으로 가져오기"
   ]
  },
  {
   "cell_type": "markdown",
   "id": "musical-forge",
   "metadata": {},
   "source": [
    "## 개별 종목의 일별 시세 수집\n",
    "* 종목코드로 수집이 가능합니다.\n",
    "* 종목명을 찾아서 일별 시세를 수집해 주는 함수를 만들어 볼 예정입니다."
   ]
  },
  {
   "cell_type": "code",
   "execution_count": 4,
   "id": "signal-registration",
   "metadata": {},
   "outputs": [],
   "source": [
    "# 삼성전자, 2017년~현재 일별 시세 받아오기\n",
    "# 삼성전자의 종목 번호 '005930'"
   ]
  },
  {
   "cell_type": "markdown",
   "id": "arabic-cambridge",
   "metadata": {},
   "source": [
    "## 상장종목 목록 가져오기"
   ]
  },
  {
   "cell_type": "code",
   "execution_count": 5,
   "id": "executive-regulation",
   "metadata": {},
   "outputs": [],
   "source": [
    "#가져온 데이터 krx_data.csv로 저장하기"
   ]
  },
  {
   "cell_type": "code",
   "execution_count": 6,
   "id": "fitting-pennsylvania",
   "metadata": {},
   "outputs": [],
   "source": [
    "# 이전 강의에서 저장해 놓았던 csv 파일로 분석을 합니다.\n",
    "# colab 사용자의 경우 이미 csv 파일이 지워졌을 수 있기 때문에 파일이 없을 경우 아래 셀에서 다시 load하면 됩니다.\n"
   ]
  },
  {
   "cell_type": "markdown",
   "id": "fiscal-first",
   "metadata": {},
   "source": [
    "## 상장종목 목록 사용하기\n",
    "* 종목명과 심볼을 찾기 위해 상장종목 목록을 사용합니다."
   ]
  },
  {
   "cell_type": "code",
   "execution_count": 7,
   "id": "honey-market",
   "metadata": {},
   "outputs": [],
   "source": [
    "# DataFrame 에 어떤 데이터가 들어있는 head()로 일부 데이터만 가져와 봅니다.\n"
   ]
  },
  {
   "cell_type": "code",
   "execution_count": 8,
   "id": "engaging-beauty",
   "metadata": {},
   "outputs": [],
   "source": [
    "# df_krx의 Name column 에서 '빅히트'에 해당하는 row를 전부 가져오는데 Name column만 가져와\n",
    "# list 형태로 index 번호는 빼고 ['빅히트'] 만 가져오게 되고 [0]을 통해 list에 있는 string만 가져오게 됩니다.\n",
    "# 빅히트 (series) -> ['빅히트'] (list) -> '빅히트' (string)"
   ]
  },
  {
   "cell_type": "markdown",
   "id": "frozen-utility",
   "metadata": {},
   "source": [
    "## 종목명으로 종목 코드를 받아오는 함수 만들기"
   ]
  },
  {
   "cell_type": "code",
   "execution_count": 9,
   "id": "corresponding-variance",
   "metadata": {},
   "outputs": [],
   "source": [
    "# 종목명으로 종목코드 받아오는 함수 만들기\n",
    "# df_krx의 Name column에서 같은 값이 있으면 \n",
    "# row의 Symbol column의 값을 list로 name_list에 저장하기\n",
    "# item_code_by_item_name 함수를 만듭니다.\n",
    "\n",
    "def item_code_by_item_name(item_name):\n",
    "    \"\"\"\n",
    "    종목명을 받아 종목코드를 찾아 반환하는 함수\n",
    "    \"\"\"\n",
    "    item_code_list = df_krx.loc[df_krx[\"Name\"] == item_name, \"Symbol\"].tolist()\n",
    "    if len(item_code_list) > 0:\n",
    "        item_code = item_code_list[0]\n",
    "        return item_code\n",
    "    else:\n",
    "        return False"
   ]
  },
  {
   "cell_type": "code",
   "execution_count": null,
   "id": "controversial-capital",
   "metadata": {},
   "outputs": [],
   "source": []
  },
  {
   "cell_type": "markdown",
   "id": "honest-exploration",
   "metadata": {},
   "source": [
    "## 종목명으로 일별시세를 받아오는 함수 만들기"
   ]
  },
  {
   "cell_type": "code",
   "execution_count": 10,
   "id": "alone-contemporary",
   "metadata": {},
   "outputs": [],
   "source": [
    "# item_code_by_item_name : 종목명으로 종목번호 가져오기\n",
    "# find_item_list : 종목번호로 해당연도 데이터 가져오기\n",
    "# find_item_list는 year 값이 없으면 기본으로 2020년 데이터를 선택\n",
    "\n",
    "def find_item_list(item_name, year=2020):\n",
    "    \"\"\"\n",
    "    종목명을 넘겨주면 일별시세를 반환하는 함수\n",
    "    내부에서 종목명으로 종목코드를 반환하는 함수(item_code_by_item_name)로\n",
    "    종목의 시세를 수집합니다.\n",
    "    \"\"\"\n",
    "    item_code = item_code_by_item_name(item_name)\n",
    "    if item_code:\n",
    "        df_day = fdr.DataReader(item_code, str(year))\n",
    "        return df_day\n",
    "    else:\n",
    "        return False"
   ]
  },
  {
   "cell_type": "code",
   "execution_count": null,
   "id": "adolescent-holocaust",
   "metadata": {},
   "outputs": [],
   "source": []
  },
  {
   "cell_type": "markdown",
   "id": "everyday-circumstances",
   "metadata": {},
   "source": [
    "## 데이터 시각화 툴 소개\n",
    "\n",
    "### matplotlib\n",
    "* [Anatomy of a figure — Matplotlib documentation](https://matplotlib.org/3.1.1/gallery/showcase/anatomy.html)\n",
    "\n",
    "### seaborn\n",
    "* [seaborn: statistical data visualization — seaborn documentation](https://seaborn.pydata.org/index.html)\n",
    "\n",
    "### pandas\n",
    "* [Visualization — pandas documentation](https://pandas.pydata.org/pandas-docs/stable/user_guide/visualization.html)"
   ]
  },
  {
   "cell_type": "markdown",
   "id": "reverse-improvement",
   "metadata": {},
   "source": [
    "## 개별종목 시세 시각화\n",
    "### pandas 의 plot으로 시각화 하기"
   ]
  },
  {
   "cell_type": "markdown",
   "id": "destroyed-paragraph",
   "metadata": {},
   "source": [
    "## 데이터 시각화를 위한 폰트설정"
   ]
  },
  {
   "cell_type": "code",
   "execution_count": 11,
   "id": "minimal-engineering",
   "metadata": {},
   "outputs": [],
   "source": [
    "# 어떤 폰트가 있는기 가져오는 함수 만들기"
   ]
  },
  {
   "cell_type": "code",
   "execution_count": null,
   "id": "verbal-gregory",
   "metadata": {},
   "outputs": [],
   "source": [
    "# 위에서 만든 함수를 통해 시스템 폰트를 불러옵니다."
   ]
  },
  {
   "cell_type": "code",
   "execution_count": null,
   "id": "norman-scenario",
   "metadata": {},
   "outputs": [],
   "source": [
    "# 시각화를 위한 폰트설정\n",
    "# 위에서 만든 함수를 통해 시스템 폰트를 불러와서 font_family 라는 변수에 할당합니다.\n"
   ]
  },
  {
   "cell_type": "markdown",
   "id": "biblical-disability",
   "metadata": {},
   "source": [
    "### 폰트 설정 확인하기"
   ]
  },
  {
   "cell_type": "code",
   "execution_count": 12,
   "id": "economic-fundamental",
   "metadata": {},
   "outputs": [],
   "source": [
    "# 한글폰트 확인하기"
   ]
  },
  {
   "cell_type": "code",
   "execution_count": 13,
   "id": "critical-occupation",
   "metadata": {},
   "outputs": [],
   "source": [
    "# 전체 데이터프레임을 plot() 으로 시각화 하면 수치 데이터 전체를 선그래프로 그립니다.\n"
   ]
  },
  {
   "cell_type": "markdown",
   "id": "faced-medline",
   "metadata": {},
   "source": [
    "## 한 개의 변수 빈도수 구하고 시각화 하기\n",
    "* Keyword\n",
    "\n",
    "    * Series.value_counts()\n",
    "    * Series.value_counts().plot()\n",
    "    * Series.value_counts().plot.bar()\n",
    "    * Series.value_counts().plot.barh()\n",
    "    * sns.countplot()\n",
    "\n",
    "### Market\n",
    "\n",
    "* KOSPI (Korea Composite Stock Price Index) \n",
    "    * 우리나라의 종합주가지수(KOSPI)는 증권거래소가 1964.1.4일을 기준시점으로 다우존스식 주가평균을 지수화한 수정주가 평균지수를 산출, 발표하기 시작하였다. 다우존스식 주가지수는 주가지수를 구성하는 상장종목 중 일부 우량주만을 선정하여 산출하는 방식이다. 시가총액식 주가지수는 일정시점의 시가총액과 현재시점의 시가총액을 대비, 현재의 주가수준을 판단하는 방식이다. 즉, 지난 1980년 1월 4일 기준 상장종목 전체의 시가총액을 100으로 보고 현재 상장종목들의 시가총액이 어느 수준에 놓여 있는지를 보여주는 시스템이다.\n",
    "    * 종합주가지수 = (비교시점의 시가총액 ÷ 기준시점의 시가총액) × 100\n",
    "    * 출처 : [네이버 지식백과] 종합주가지수 (시사상식사전, pmg 지식엔진연구소) https://terms.naver.com/entry.nhn?docId=72147&cid=43667&categoryId=43667\n",
    "\n",
    "\n",
    "* KOSDAQ (Korea Securities Dealers Automated Quotation) \n",
    "    * 미국의 나스닥(NASDAQ)을 한국식으로 합성한 용어로 1996년 7월 1일 증권업협회와 증권사들이 설립한 코스닥증권(주)에 의하여 개설되었다. 코스닥의 개장으로 단순히 증권거래소 상장을 위한 예비적 단계였던 장외시장이 미국의 나스닥(NASDAQ)과 같이 자금조달 및 투자시장으로 독립적인 역할을 수행하게 되었다. 이후 2005년 1월 유가증권시장, 코스닥시장, 선물시장이 증권선물거래소(현 한국거래소)로 통합됨에 따라 코스닥시장도 거래소가 개설한 정규시장으로 편입되었다. 코스닥은 유가증권시장에 비해 진입요건이 상대적으로 덜 까다롭기 때문에 주로 중소벤처기업들이 상장되어 있다.\n",
    "    * 출처 : [네이버 지식백과] KOSDAQ (매일경제, 매경닷컴) https://terms.naver.com/entry.nhn?docId=18639&cid=43659&categoryId=43659\n",
    "\n",
    "\n",
    "* KONEX(Korea New Exchange) : \n",
    "    * 일정 요건을 갖춘 비상장 기업에 문호를 개방하기 위해 개설하는 유가증권시장, 코스닥시장에 이은 제3의 주식시장을 일컫는다. 코넥스시장은 우수한 기술력을 보유하고 있음에도 불구하고, 짧은 경력 등을 이유로 자금 조달에 어려움을 겪는 초기 중소기업과 벤처기업이 자금을 원활하게 조달할 수 있도록 하기 위해 설립된 자본시장으로, 2013년 7월 1일 개장되었다. \n",
    "    * 출처 : [네이버 지식백과] 코넥스 (시사상식사전, pmg 지식엔진연구소) https://terms.naver.com/entry.nhn?docId=1006691&cid=43667&categoryId=43667"
   ]
  },
  {
   "cell_type": "code",
   "execution_count": 14,
   "id": "partial-times",
   "metadata": {},
   "outputs": [],
   "source": [
    "# 데이터 분석을 위해 pandas, 시각화를 위해 seaborn 불러오기\n"
   ]
  },
  {
   "cell_type": "markdown",
   "id": "european-poker",
   "metadata": {},
   "source": [
    "### 서브플롯 그리기"
   ]
  },
  {
   "cell_type": "code",
   "execution_count": 15,
   "id": "functional-concentrate",
   "metadata": {},
   "outputs": [],
   "source": [
    "# 이전 강좌에서 to_csv로 저장해둔 krx_data.csv 파일을 pd.read_csv 로 불러옵니다.\n"
   ]
  },
  {
   "cell_type": "markdown",
   "id": "balanced-remedy",
   "metadata": {},
   "source": [
    "## 데이터 색인하기\n",
    "\n",
    "### Series\n",
    "<img src=\"https://pandas.pydata.org/docs/_images/01_table_series.svg\">"
   ]
  },
  {
   "cell_type": "code",
   "execution_count": null,
   "id": "original-accessory",
   "metadata": {},
   "outputs": [],
   "source": []
  },
  {
   "cell_type": "code",
   "execution_count": 17,
   "id": "consolidated-evaluation",
   "metadata": {},
   "outputs": [],
   "source": [
    "# Name 컬럼 하나만 가져옵니다."
   ]
  },
  {
   "cell_type": "code",
   "execution_count": null,
   "id": "entitled-forty",
   "metadata": {},
   "outputs": [],
   "source": [
    "# Market column에 어떤 데이터들이 있는지 확인합니다."
   ]
  },
  {
   "cell_type": "code",
   "execution_count": null,
   "id": "possible-lover",
   "metadata": {},
   "outputs": [],
   "source": []
  },
  {
   "cell_type": "code",
   "execution_count": null,
   "id": "sweet-concentration",
   "metadata": {},
   "outputs": [],
   "source": [
    "#plot.barh() 를 이용해서 막대그래프 그리기"
   ]
  },
  {
   "cell_type": "code",
   "execution_count": 18,
   "id": "cutting-update",
   "metadata": {},
   "outputs": [],
   "source": [
    "# Seaborn countplot 활용하여 빈도수를 표현합니다."
   ]
  },
  {
   "cell_type": "markdown",
   "id": "documented-nickel",
   "metadata": {},
   "source": [
    "### Sector"
   ]
  },
  {
   "cell_type": "code",
   "execution_count": 19,
   "id": "separate-container",
   "metadata": {},
   "outputs": [],
   "source": [
    "# 섹터의 빈도수를 구합니다.\n",
    "# 상위 30개 섹터의 빈도수를 sector_count_top 변수에 할당합니다."
   ]
  },
  {
   "cell_type": "code",
   "execution_count": 20,
   "id": "level-stereo",
   "metadata": {},
   "outputs": [],
   "source": [
    "#sector_count_top barh그래프 그리기"
   ]
  },
  {
   "cell_type": "code",
   "execution_count": 21,
   "id": "obvious-wright",
   "metadata": {},
   "outputs": [],
   "source": [
    "# Seaborn countplot 활용하여 빈도수를 표현합니다."
   ]
  },
  {
   "cell_type": "code",
   "execution_count": 22,
   "id": "beginning-excitement",
   "metadata": {},
   "outputs": [],
   "source": [
    "# 빈도수가 가장 많은 데이터 색인하기"
   ]
  },
  {
   "cell_type": "markdown",
   "id": "australian-reader",
   "metadata": {},
   "source": [
    "### Industry"
   ]
  },
  {
   "cell_type": "code",
   "execution_count": 23,
   "id": "irish-ridge",
   "metadata": {},
   "outputs": [],
   "source": [
    "# Industry 의 빈도수를 구합니다."
   ]
  },
  {
   "cell_type": "code",
   "execution_count": 24,
   "id": "floating-suspect",
   "metadata": {},
   "outputs": [],
   "source": [
    "# Industry 빈도수를 pandas 의 plot 기능을 사용해 시각화 합니다."
   ]
  },
  {
   "cell_type": "code",
   "execution_count": 25,
   "id": "geographic-assembly",
   "metadata": {},
   "outputs": [],
   "source": [
    "# sort_values 기능을 사용해 반대로 정렬해서 표시합니다.\n"
   ]
  },
  {
   "cell_type": "markdown",
   "id": "transsexual-marathon",
   "metadata": {},
   "source": [
    "### Region "
   ]
  },
  {
   "cell_type": "code",
   "execution_count": 26,
   "id": "straight-jenny",
   "metadata": {},
   "outputs": [],
   "source": [
    "# Region 의 빈도수를 구합니다.\n",
    "# value_counts()통해 지역별 상장회사의 빈도수를 봅니다."
   ]
  },
  {
   "cell_type": "code",
   "execution_count": 27,
   "id": "shaped-submission",
   "metadata": {},
   "outputs": [],
   "source": [
    "# value_counts() 를 인덱스 하자"
   ]
  },
  {
   "cell_type": "code",
   "execution_count": 28,
   "id": "bronze-assumption",
   "metadata": {},
   "outputs": [],
   "source": [
    "# Region 의 빈도수를 seaborn 의 countplot 으로 그립니다."
   ]
  },
  {
   "cell_type": "code",
   "execution_count": 29,
   "id": "lightweight-berlin",
   "metadata": {},
   "outputs": [],
   "source": [
    "# order 기능을 통해 빈도수를 정렬합니다.\n",
    "# df[\"Region\"].value_counts().index 로 Region 의 순서를 가져와서 지정합니다."
   ]
  },
  {
   "cell_type": "code",
   "execution_count": 30,
   "id": "graphic-crest",
   "metadata": {},
   "outputs": [],
   "source": [
    "# Region 을 기준으로 정렬합니다."
   ]
  },
  {
   "cell_type": "markdown",
   "id": "buried-welcome",
   "metadata": {},
   "source": [
    "## 두 개의 변수 빈도수 구하고 시각화 하기\n",
    "* crosstab 으로 빈도수 구하기\n",
    "* seaborn의 countplot 으로 빈도수 시각화\n",
    "* pandas의 plot 기능으로 시각화\n",
    "    * lineplot : 연속된 데이터(숫자, 기간)\n",
    "    * barplot : 비연속 데이터(범주형)\n",
    "    * hist : 연속된 수치 데이터의 범주화"
   ]
  },
  {
   "cell_type": "markdown",
   "id": "studied-tutorial",
   "metadata": {},
   "source": [
    "### 지역별 상장 시장 종목 빈도수 구하기\n",
    "* pd.crosstab 을 통한 2개의 변수에 대한 빈도수 구하기"
   ]
  },
  {
   "cell_type": "code",
   "execution_count": 32,
   "id": "fitted-incidence",
   "metadata": {},
   "outputs": [],
   "source": [
    "# pd.crosstab 을 통한 2개의 변수에 대한 빈도수 구하기\n",
    "# Market 과 Region 으로 빈도수 구하기"
   ]
  },
  {
   "cell_type": "code",
   "execution_count": 33,
   "id": "planned-thickness",
   "metadata": {},
   "outputs": [],
   "source": [
    "# countplot : Market 과 Region 으로 빈도수 시각화 하기 hue: 비교하고자 하는 것\n"
   ]
  },
  {
   "cell_type": "markdown",
   "id": "pending-phrase",
   "metadata": {},
   "source": [
    "### 연도별 상장 종목 빈도수 분석"
   ]
  },
  {
   "cell_type": "code",
   "execution_count": 34,
   "id": "blank-kitchen",
   "metadata": {},
   "outputs": [],
   "source": [
    "# Market, ListingYear 빈도수 구하기\n"
   ]
  },
  {
   "cell_type": "code",
   "execution_count": null,
   "id": "another-gateway",
   "metadata": {},
   "outputs": [],
   "source": []
  },
  {
   "cell_type": "code",
   "execution_count": 35,
   "id": "whole-metadata",
   "metadata": {},
   "outputs": [],
   "source": [
    "#정수 배열 만들기\n"
   ]
  },
  {
   "cell_type": "code",
   "execution_count": 36,
   "id": "induced-complex",
   "metadata": {},
   "outputs": [],
   "source": [
    "# 칼럼값 바꾸기"
   ]
  },
  {
   "cell_type": "markdown",
   "id": "nervous-ireland",
   "metadata": {},
   "source": [
    "### seaborn을 통한 빈도수 시각화"
   ]
  },
  {
   "cell_type": "code",
   "execution_count": 37,
   "id": "early-probability",
   "metadata": {},
   "outputs": [],
   "source": [
    "# Seaborn countplot 활용하여 빈도수를 표현합니다.\n",
    "# hue 를 사용해 다른 변수를 함께 표현합니다. hue는 색상을 의미합니다."
   ]
  },
  {
   "cell_type": "markdown",
   "id": "alleged-greeting",
   "metadata": {},
   "source": [
    "### Pandas를 통한 시각화"
   ]
  },
  {
   "cell_type": "code",
   "execution_count": 38,
   "id": "amber-sentence",
   "metadata": {},
   "outputs": [],
   "source": [
    "# Pandas plot 기능 활용하여 기본 그래프(line)를 그립니다.\n",
    "# Pandas plot으로 그릴 때 x축에 인덱스 값이 y축에는 컬럼에 있는 값이 들어갑니다.\n",
    "# 컬럼이 여러개라면 다른 색상으로 그려집니다."
   ]
  },
  {
   "cell_type": "code",
   "execution_count": 39,
   "id": "grand-fundamental",
   "metadata": {},
   "outputs": [],
   "source": [
    "# 컬럼값을 subplots 으로 그립니다."
   ]
  },
  {
   "cell_type": "code",
   "execution_count": null,
   "id": "valid-catalog",
   "metadata": {},
   "outputs": [],
   "source": [
    "# Pandas plot 기능 활용하여 막대 그래프(bar, barh)를 그립니다."
   ]
  },
  {
   "cell_type": "markdown",
   "id": "floppy-duration",
   "metadata": {},
   "source": [
    "### groupby 와 pivot_table로 빈도수 구하기\n",
    "<img src=\"https://pandas.pydata.org/pandas-docs/stable/_images/06_valuecounts.svg\">\n",
    "\n",
    "* [How to calculate summary statistics? — pandas documentation](https://pandas.pydata.org/pandas-docs/stable/getting_started/intro_tutorials/06_calculate_statistics.html)\n",
    "* [Group by: split-apply-combine — pandas documentation](https://pandas.pydata.org/pandas-docs/stable/user_guide/groupby.html)\n",
    "* [pandas.pivot_table — pandas 1.2.0 documentation](https://pandas.pydata.org/pandas-docs/stable/reference/api/pandas.pivot_table.html)"
   ]
  },
  {
   "cell_type": "code",
   "execution_count": null,
   "id": "imperial-window",
   "metadata": {},
   "outputs": [],
   "source": []
  },
  {
   "cell_type": "code",
   "execution_count": 40,
   "id": "representative-chinese",
   "metadata": {},
   "outputs": [],
   "source": [
    "#Symbol을 기준으로 그룹으로 묶는다.\n"
   ]
  },
  {
   "cell_type": "code",
   "execution_count": 41,
   "id": "endless-dragon",
   "metadata": {},
   "outputs": [],
   "source": [
    "# groupby([인덱스 컬럼 리스트])[연산에 사용할 컬럼].연산()"
   ]
  },
  {
   "cell_type": "code",
   "execution_count": 42,
   "id": "ultimate-lounge",
   "metadata": {},
   "outputs": [],
   "source": [
    "# pivot_table로 같은 결과가 나오게 연산하기"
   ]
  },
  {
   "cell_type": "code",
   "execution_count": 43,
   "id": "three-sword",
   "metadata": {},
   "outputs": [],
   "source": [
    "# 위의 groupby 결과를 scatterplot(산점도)으로 그립니다."
   ]
  },
  {
   "cell_type": "code",
   "execution_count": 44,
   "id": "individual-withdrawal",
   "metadata": {},
   "outputs": [],
   "source": [
    "# 수집한 종목의 선그래프를 Pandas 로 그립니다.\n",
    "# 스케일이 다르기 때문에 subplots를 사용해 그려봅니다."
   ]
  },
  {
   "cell_type": "code",
   "execution_count": null,
   "id": "damaged-conditions",
   "metadata": {},
   "outputs": [],
   "source": []
  }
 ],
 "metadata": {
  "kernelspec": {
   "display_name": "Python 3",
   "language": "python",
   "name": "python3"
  },
  "language_info": {
   "codemirror_mode": {
    "name": "ipython",
    "version": 3
   },
   "file_extension": ".py",
   "mimetype": "text/x-python",
   "name": "python",
   "nbconvert_exporter": "python",
   "pygments_lexer": "ipython3",
   "version": "3.8.7"
  }
 },
 "nbformat": 4,
 "nbformat_minor": 5
}
